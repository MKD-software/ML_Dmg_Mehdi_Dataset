{
 "cells": [
  {
   "cell_type": "markdown",
   "id": "87821a78",
   "metadata": {},
   "source": [
    "# Data loading and exploration"
   ]
  },
  {
   "cell_type": "code",
   "execution_count": 5,
   "id": "f7aeadd7",
   "metadata": {},
   "outputs": [],
   "source": [
    "import optuna\n",
    "import torch\n",
    "import os\n",
    "import re\n",
    "import scipy.io as sio\n",
    "from glob import glob\n",
    "import matplotlib\n",
    "matplotlib.use('Agg')\n",
    "import matplotlib.pyplot as plt\n",
    "\n",
    "import numpy as np\n",
    "from torch.utils.data import Dataset, DataLoader\n",
    "\n",
    "def load_one(file_path, V_rms):\n",
    "    if not os.path.exists(file_path):\n",
    "        raise FileNotFoundError(file_path)\n",
    "\n",
    "    # --- extract metadata from filename ---\n",
    "    fname = os.path.basename(file_path)\n",
    "    # Example: sweep_50_500K_9000_1v_t10920_25.8.mat\n",
    "    m = re.match(r\"sweep_(\\d+)_([\\d\\.]+)K_\\d+_([\\d\\.]+)v_t(\\d+)_([\\d\\.]+)\\.mat\", fname)\n",
    "    if not m:\n",
    "        raise ValueError(f\"Unexpected filename format: {fname}\")\n",
    "    start_freq = float(m.group(1))\n",
    "    stop_freq = float(m.group(2)) * 1e3  # convert K→Hz\n",
    "    stim_voltage = float(m.group(3))\n",
    "    weight = float(m.group(4)) / 100      # 10920 → 109.20 g\n",
    "    temperature = float(m.group(5))\n",
    "\n",
    "\n",
    "    # --- load .mat ---\n",
    "    S = sio.loadmat(file_path, squeeze_me=True, struct_as_record=False)\n",
    "    fn = [k for k in S.keys() if not k.startswith(\"__\")]\n",
    "    dev = getattr(S[fn[0]], \"demods\", None)\n",
    "    if dev is None or not hasattr(dev, \"sample\"):\n",
    "        raise KeyError(f\"No dev.demods.sample in {file_path}\")\n",
    "\n",
    "    s = dev.sample\n",
    "    if isinstance(s, (list, np.ndarray)) and len(s) > 0:\n",
    "        s = s[0]\n",
    "\n",
    "    f = np.array(s.frequency, dtype=float)\n",
    "    X = np.array(s.x, dtype=float)\n",
    "    Y = np.array(s.y, dtype=float)\n",
    "\n",
    "    # Complex current and impedance\n",
    "    I = X + 1j * Y\n",
    "    I_mag = np.abs(I)\n",
    "    epsI = max(np.max(I_mag) * 1e-12, 1e-18)\n",
    "    I[I_mag < epsI] = epsI\n",
    "\n",
    "    Z = V_rms / I\n",
    "    R = np.real(Z)\n",
    "    Xc = np.imag(Z)\n",
    "    Zmag = np.abs(Z)\n",
    "    Zphase = np.degrees(np.angle(Z))\n",
    "\n",
    "    return {\n",
    "        \"file\": file_path,\n",
    "        \"f\": f,\n",
    "        \"R\": R,\n",
    "        \"Xc\": Xc,\n",
    "        \"Zmag\": Zmag,\n",
    "        \"Zphase\": Zphase,\n",
    "        \"weight_g\": weight,\n",
    "        \"temperature_C\": temperature,\n",
    "        \"V_rms\": V_rms,\n",
    "        \"start_freq\": start_freq,\n",
    "        \"stop_freq\": stop_freq,\n",
    "        \"stim_voltage\": stim_voltage,\n",
    "    }\n",
    "\n",
    "# Example usage\n",
    "data_dir = r\"Datafolder\"\n",
    "files = glob(os.path.join(data_dir, \"*.mat\"))\n",
    "\n",
    "datasets = [\n",
    "    load_one(f, V_rms=1.0)\n",
    "    for f in files\n",
    "]\n"
   ]
  },
  {
   "cell_type": "code",
   "execution_count": 6,
   "id": "4e9c8081",
   "metadata": {},
   "outputs": [
    {
     "name": "stderr",
     "output_type": "stream",
     "text": [
      "/tmp/ipykernel_70730/259537034.py:14: UserWarning: FigureCanvasAgg is non-interactive, and thus cannot be shown\n",
      "  plt.show()\n"
     ]
    }
   ],
   "source": [
    "plt.figure(figsize=(8, 5))\n",
    "for d in datasets:\n",
    "    label = f\"{d['temperature_C']}°C, {d['weight_g']:.2f}g\"\n",
    "    plt.plot(d[\"f\"] / 1000, d[\"R\"], label=f\"R - {label}\", alpha=0.8)\n",
    "    #plt.plot(d[\"f\"] / 1000, d[\"Xc\"], linestyle=\"--\", label=f\"Xc - {label}\", alpha=0.8)\n",
    "\n",
    "plt.xlim(50, 500)\n",
    "#plt.xlim(150, 200)\n",
    "plt.xlabel(\"Frequency (kHz)\")\n",
    "plt.ylabel(\"Impedance (Ohm)\")\n",
    "#plt.legend(fontsize=8)\n",
    "plt.grid(True)\n",
    "plt.tight_layout()\n",
    "plt.show()"
   ]
  },
  {
   "cell_type": "markdown",
   "id": "5d74ae87",
   "metadata": {},
   "source": [
    "# ML Pipeline"
   ]
  },
  {
   "cell_type": "markdown",
   "id": "1d300336",
   "metadata": {},
   "source": [
    "## 0. Config"
   ]
  },
  {
   "cell_type": "code",
   "execution_count": 9,
   "id": "08bd6928",
   "metadata": {},
   "outputs": [
    {
     "name": "stderr",
     "output_type": "stream",
     "text": [
      "[I 2025-10-21 16:11:22,299] Using an existing study with name 'impedance_optimization_50_500kHz' instead of creating a new one.\n"
     ]
    }
   ],
   "source": [
    "# Frequency range parameters (in kHz) for feature extraction\n",
    "freq_start_khz = 50   # Change this to set start frequency\n",
    "freq_stop_khz = 500    # Change this to set stop frequency\n",
    "\n",
    "# Study configuration\n",
    "study_name = f\"impedance_optimization_{freq_start_khz}_{freq_stop_khz}kHz\"\n",
    "storage_url = \"sqlite:///optuna_study.db\"\n",
    "\n",
    "TUNA_TRAILS = 300\n",
    "NUM_OF_EPOCHS = 300\n",
    "\n",
    "# Load existing study\n",
    "study = optuna.create_study(\n",
    "    study_name=study_name,\n",
    "    storage=storage_url,\n",
    "    direction=\"minimize\",\n",
    "    load_if_exists=True\n",
    ")"
   ]
  },
  {
   "cell_type": "markdown",
   "id": "cc5cfb7b",
   "metadata": {},
   "source": [
    "## 1. Data prep"
   ]
  },
  {
   "cell_type": "code",
   "execution_count": null,
   "id": "e0d52b67",
   "metadata": {},
   "outputs": [],
   "source": [
    "# Build dataset matrix\n",
    "freqs = datasets[0][\"f\"]\n",
    "X_data, y_data = [], []\n",
    "\n",
    "for d in datasets:\n",
    "    # Filter data by frequency range\n",
    "    freq_khz = d[\"f\"] / 1000\n",
    "    freq_mask = (freq_khz >= freq_start_khz) & (freq_khz <= freq_stop_khz)\n",
    "    \n",
    "    R = d[\"R\"][freq_mask]\n",
    "    Xc = d[\"Xc\"][freq_mask]\n",
    "    temp = d[\"temperature_C\"]\n",
    "    # feature vector: concatenate R, Xc, and temp\n",
    "    #features = np.concatenate([R, Xc, [temp]])\n",
    "    features = np.concatenate([R])\n",
    "    X_data.append(features)\n",
    "    y_data.append(d[\"weight_g\"] - 115.0)  # target: delta weight\n",
    "\n",
    "X_data = np.array(X_data, dtype=np.float32)\n",
    "y_data = np.array(y_data, dtype=np.float32).reshape(-1, 1)\n",
    "\n",
    "# Normalize features (zero mean, unit variance)\n",
    "from sklearn.preprocessing import StandardScaler\n",
    "scaler = StandardScaler()\n",
    "X_data = scaler.fit_transform(X_data)"
   ]
  },
  {
   "cell_type": "markdown",
   "id": "f6bcc41e",
   "metadata": {},
   "source": [
    "## 2. Pytorch dataset"
   ]
  },
  {
   "cell_type": "code",
   "execution_count": 34,
   "id": "159039e0",
   "metadata": {},
   "outputs": [],
   "source": [
    "class ImpedanceDataset(Dataset):\n",
    "    def __init__(self, X, y):\n",
    "        self.X = torch.tensor(X, dtype=torch.float32)\n",
    "        self.y = torch.tensor(y, dtype=torch.float32)\n",
    "    def __len__(self):\n",
    "        return len(self.X)\n",
    "    def __getitem__(self, idx):\n",
    "        return self.X[idx], self.y[idx]\n",
    "\n",
    "dataset = ImpedanceDataset(X_data, y_data)\n"
   ]
  },
  {
   "cell_type": "markdown",
   "id": "85642125",
   "metadata": {},
   "source": [
    "## 3. Train/Validate split"
   ]
  },
  {
   "cell_type": "code",
   "execution_count": null,
   "id": "f67f1aea",
   "metadata": {},
   "outputs": [],
   "source": [
    "from sklearn.model_selection import train_test_split\n",
    "\n",
    "X_train, X_val, y_train, y_val = train_test_split(X_data, y_data, test_size=0.3, random_state=42)\n",
    "train_ds = ImpedanceDataset(X_train, y_train)\n",
    "val_ds = ImpedanceDataset(X_val, y_val)\n",
    "train_loader = DataLoader(train_ds, batch_size=64, shuffle=True)\n",
    "val_loader = DataLoader(val_ds, batch_size=64)\n"
   ]
  },
  {
   "cell_type": "markdown",
   "id": "0364711f",
   "metadata": {},
   "source": [
    "## 4. Define model"
   ]
  },
  {
   "cell_type": "code",
   "execution_count": 36,
   "id": "eec54213",
   "metadata": {},
   "outputs": [],
   "source": [
    "class ImpedanceNet(torch.nn.Module):\n",
    "    def __init__(self, input_dim, hidden_channels, kernel_size, stride, dropout):\n",
    "        super().__init__()\n",
    "        self.input_dim = input_dim\n",
    "        \n",
    "        # Calculate dimensions after conv layers\n",
    "        def conv_output_size(input_size, kernel_size, stride, padding):\n",
    "            return (input_size + 2 * padding - kernel_size) // stride + 1\n",
    "        \n",
    "        # First conv layer\n",
    "        padding1 = kernel_size // 2\n",
    "        size_after_conv1 = conv_output_size(input_dim, kernel_size, stride, padding1)\n",
    "        \n",
    "        # Second conv layer  \n",
    "        size_after_conv2 = conv_output_size(size_after_conv1, kernel_size, stride, padding1)\n",
    "        \n",
    "        # Third conv layer\n",
    "        size_after_conv3 = conv_output_size(size_after_conv2, kernel_size, stride, padding1)\n",
    "        \n",
    "        self.conv_layers = torch.nn.Sequential(\n",
    "            torch.nn.Conv1d(1, hidden_channels, kernel_size, stride=stride, padding=padding1),\n",
    "            torch.nn.ReLU(),\n",
    "            torch.nn.Dropout(dropout),\n",
    "            torch.nn.Conv1d(hidden_channels, hidden_channels*2, kernel_size, stride=stride, padding=padding1),\n",
    "            torch.nn.ReLU(),\n",
    "            torch.nn.Dropout(dropout),\n",
    "            torch.nn.Conv1d(hidden_channels*2, hidden_channels*4, kernel_size, stride=stride, padding=padding1),\n",
    "            torch.nn.ReLU(),\n",
    "            torch.nn.Dropout(dropout)\n",
    "        )\n",
    "        \n",
    "        # Calculate final feature size\n",
    "        final_features = hidden_channels * 4 * size_after_conv3\n",
    "        self.fc = torch.nn.Linear(final_features, 1)\n",
    "        \n",
    "    def forward(self, x):\n",
    "        # x shape: (batch, features) -> (batch, 1, features)\n",
    "        x = x.unsqueeze(1)\n",
    "        x = self.conv_layers(x)\n",
    "        x = x.flatten(1)\n",
    "        return self.fc(x)"
   ]
  },
  {
   "cell_type": "markdown",
   "id": "f3884e2a",
   "metadata": {},
   "source": [
    "## 5. Optuna hyperparam search"
   ]
  },
  {
   "cell_type": "code",
   "execution_count": 18,
   "id": "7e3c9a69",
   "metadata": {},
   "outputs": [
    {
     "name": "stdout",
     "output_type": "stream",
     "text": [
      "CUDA Setup Information:\n",
      "CUDA Available: True\n",
      "CUDA Version: 11.8\n",
      "Number of GPUs: 1\n",
      "Current GPU: NVIDIA GeForce RTX 4090\n",
      "GPU Memory: 25.8 GB\n",
      "\n"
     ]
    }
   ],
   "source": [
    "# Check CUDA availability and GPU information\n",
    "print(\"CUDA Setup Information:\")\n",
    "print(f\"CUDA Available: {torch.cuda.is_available()}\")\n",
    "if torch.cuda.is_available():\n",
    "    print(f\"CUDA Version: {torch.version.cuda}\")\n",
    "    print(f\"Number of GPUs: {torch.cuda.device_count()}\")\n",
    "    print(f\"Current GPU: {torch.cuda.get_device_name(0)}\")\n",
    "    print(f\"GPU Memory: {torch.cuda.get_device_properties(0).total_memory / 1e9:.1f} GB\")\n",
    "else:\n",
    "    print(\"CUDA not available - will use CPU for training\")\n",
    "print()"
   ]
  },
  {
   "cell_type": "code",
   "execution_count": null,
   "id": "233585b5",
   "metadata": {},
   "outputs": [
    {
     "name": "stderr",
     "output_type": "stream",
     "text": [
      "[I 2025-10-21 12:13:39,045] A new study created in memory with name: no-name-cb50e6c6-edce-4441-a7b8-639158b54e4d\n",
      "[I 2025-10-21 12:15:32,164] Trial 0 finished with value: 4654.68212890625 and parameters: {'hidden_channels': 20, 'kernel_size': 3, 'dropout': 0.42413611255248174, 'lr': 0.0005204249228946794}. Best is trial 0 with value: 4654.68212890625.\n",
      "[I 2025-10-21 12:15:32,164] Trial 0 finished with value: 4654.68212890625 and parameters: {'hidden_channels': 20, 'kernel_size': 3, 'dropout': 0.42413611255248174, 'lr': 0.0005204249228946794}. Best is trial 0 with value: 4654.68212890625.\n",
      "[I 2025-10-21 12:17:25,571] Trial 1 finished with value: 2.606856346130371 and parameters: {'hidden_channels': 18, 'kernel_size': 9, 'dropout': 0.4118014358422435, 'lr': 0.006937730458326272}. Best is trial 1 with value: 2.606856346130371.\n",
      "[I 2025-10-21 12:17:25,571] Trial 1 finished with value: 2.606856346130371 and parameters: {'hidden_channels': 18, 'kernel_size': 9, 'dropout': 0.4118014358422435, 'lr': 0.006937730458326272}. Best is trial 1 with value: 2.606856346130371.\n",
      "[I 2025-10-21 12:20:41,424] Trial 2 finished with value: 4.899342060089111 and parameters: {'hidden_channels': 30, 'kernel_size': 5, 'dropout': 0.11968284298456183, 'lr': 0.000500688530970706}. Best is trial 1 with value: 2.606856346130371.\n",
      "[I 2025-10-21 12:20:41,424] Trial 2 finished with value: 4.899342060089111 and parameters: {'hidden_channels': 30, 'kernel_size': 5, 'dropout': 0.11968284298456183, 'lr': 0.000500688530970706}. Best is trial 1 with value: 2.606856346130371.\n",
      "[I 2025-10-21 12:28:53,067] Trial 3 finished with value: 8.656170845031738 and parameters: {'hidden_channels': 63, 'kernel_size': 5, 'dropout': 0.1005570274658159, 'lr': 0.007121393303832019}. Best is trial 1 with value: 2.606856346130371.\n",
      "[I 2025-10-21 12:28:53,067] Trial 3 finished with value: 8.656170845031738 and parameters: {'hidden_channels': 63, 'kernel_size': 5, 'dropout': 0.1005570274658159, 'lr': 0.007121393303832019}. Best is trial 1 with value: 2.606856346130371.\n",
      "[I 2025-10-21 12:36:16,789] Trial 4 finished with value: 181.21226501464844 and parameters: {'hidden_channels': 60, 'kernel_size': 3, 'dropout': 0.018991500270351513, 'lr': 0.00026574663768922155}. Best is trial 1 with value: 2.606856346130371.\n",
      "[I 2025-10-21 12:36:16,789] Trial 4 finished with value: 181.21226501464844 and parameters: {'hidden_channels': 60, 'kernel_size': 3, 'dropout': 0.018991500270351513, 'lr': 0.00026574663768922155}. Best is trial 1 with value: 2.606856346130371.\n"
     ]
    }
   ],
   "source": [
    "def objective(trial):\n",
    "    # Check if CUDA is available\n",
    "    device = torch.device('cuda' if torch.cuda.is_available() else 'cpu')\n",
    "    print(f\"Using device: {device}\")\n",
    "    \n",
    "    # Hyperparameters to optimize\n",
    "    hidden_channels = trial.suggest_int(\"hidden_channels\", 8, 64)\n",
    "    kernel_size = trial.suggest_int(\"kernel_size\", 3, 40, step=2)  # Expanded range\n",
    "    stride = trial.suggest_int(\"stride\", 1, 40)  # New parameter\n",
    "    dropout = trial.suggest_float(\"dropout\", 0.0, 1)\n",
    "    lr = trial.suggest_float(\"lr\", 1e-4, 1e-2, log=True)\n",
    "    epochs = NUM_OF_EPOCHS\n",
    "\n",
    "    try:\n",
    "        model = ImpedanceNet(X_train.shape[1], hidden_channels, kernel_size, stride, dropout)\n",
    "        model = model.to(device)  # Move model to GPU if available\n",
    "        \n",
    "        opt = torch.optim.Adam(model.parameters(), lr=lr)\n",
    "        loss_fn = torch.nn.MSELoss()\n",
    "\n",
    "        for epoch in range(epochs):\n",
    "            model.train()\n",
    "            for xb, yb in train_loader:\n",
    "                xb, yb = xb.to(device), yb.to(device)  # Move data to GPU\n",
    "                pred = model(xb)\n",
    "                loss = loss_fn(pred, yb)\n",
    "                opt.zero_grad()\n",
    "                loss.backward()\n",
    "                opt.step()\n",
    "\n",
    "        # Validation loss\n",
    "        model.eval()\n",
    "        val_loss = 0\n",
    "        with torch.no_grad():\n",
    "            for xb, yb in val_loader:\n",
    "                xb, yb = xb.to(device), yb.to(device)  # Move data to GPU\n",
    "                pred = model(xb)\n",
    "                val_loss += loss_fn(pred, yb).item()\n",
    "        \n",
    "        return val_loss / len(val_loader)\n",
    "        \n",
    "    except RuntimeError as e:\n",
    "        if \"out of memory\" in str(e):\n",
    "            # If GPU runs out of memory, return a high loss to penalize this configuration\n",
    "            print(f\"GPU out of memory for trial {trial.number}: {e}\")\n",
    "            return float('inf')\n",
    "        else:\n",
    "            raise e\n",
    "\n",
    "study = optuna.create_study(\n",
    "    study_name=study_name,\n",
    "    storage=storage_url,\n",
    "    direction=\"minimize\",\n",
    "    load_if_exists=True  # Load existing study if it exists\n",
    ")\n",
    "\n",
    "print(f\"Study created/loaded: {study_name}\")\n",
    "print(f\"Database URL: {storage_url}\")\n",
    "print(f\"Number of completed trials: {len(study.trials)}\")\n",
    "\n",
    "study.optimize(objective, n_trials=TUNA_TRAILS)  # Increased trials for better exploration\n",
    "\n",
    "print(f\"\\nBest parameters: {study.best_params}\")\n",
    "print(f\"Best validation loss: {study.best_value:.4f}\")\n",
    "print(f\"\\nTo view results in dashboard, run:\")\n",
    "print(f\"optuna-dashboard {storage_url}\")"
   ]
  },
  {
   "cell_type": "markdown",
   "id": "cc4c58e7",
   "metadata": {},
   "source": [
    "## 6. Train final model with best parameters"
   ]
  },
  {
   "cell_type": "code",
   "execution_count": 37,
   "id": "b01aa30f",
   "metadata": {},
   "outputs": [
    {
     "name": "stdout",
     "output_type": "stream",
     "text": [
      "Training on device: cuda\n",
      "Best parameters: {'hidden_channels': 58, 'kernel_size': 13, 'stride': 2, 'dropout': 0.005510332358429864, 'lr': 0.002859343557286066}\n",
      "Epoch 50/200, Average Loss: 20.2615\n",
      "Epoch 50/200, Average Loss: 20.2615\n",
      "Epoch 100/200, Average Loss: 19.6588\n",
      "Epoch 100/200, Average Loss: 19.6588\n",
      "Epoch 150/200, Average Loss: 16.7767\n",
      "Epoch 150/200, Average Loss: 16.7767\n",
      "Epoch 200/200, Average Loss: 31.6181\n",
      "Training completed!\n",
      "Epoch 200/200, Average Loss: 31.6181\n",
      "Training completed!\n"
     ]
    }
   ],
   "source": [
    "# Check if CUDA is available\n",
    "device = torch.device('cuda' if torch.cuda.is_available() else 'cpu')\n",
    "print(f\"Training on device: {device}\")\n",
    "\n",
    "best_params = study.best_params\n",
    "print(f\"Best parameters: {best_params}\")\n",
    "\n",
    "model = ImpedanceNet(\n",
    "    X_train.shape[1], \n",
    "    best_params[\"hidden_channels\"], \n",
    "    best_params[\"kernel_size\"], \n",
    "    best_params[\"stride\"],  # New parameter\n",
    "    best_params[\"dropout\"]\n",
    ")\n",
    "model = model.to(device)  # Move model to GPU\n",
    "\n",
    "opt = torch.optim.Adam(model.parameters(), lr=best_params[\"lr\"])\n",
    "loss_fn = torch.nn.MSELoss()\n",
    "\n",
    "# Training loop with progress tracking\n",
    "train_losses = []\n",
    "for epoch in range(200):\n",
    "    model.train()\n",
    "    epoch_loss = 0\n",
    "    for xb, yb in train_loader:\n",
    "        xb, yb = xb.to(device), yb.to(device)  # Move data to GPU\n",
    "        opt.zero_grad()\n",
    "        loss = loss_fn(model(xb), yb)\n",
    "        loss.backward()\n",
    "        opt.step()\n",
    "        epoch_loss += loss.item()\n",
    "    \n",
    "    avg_loss = epoch_loss / len(train_loader)\n",
    "    train_losses.append(avg_loss)\n",
    "    \n",
    "    if (epoch + 1) % 50 == 0:\n",
    "        print(f\"Epoch {epoch+1}/200, Average Loss: {avg_loss:.4f}\")\n",
    "\n",
    "print(\"Training completed!\")"
   ]
  },
  {
   "cell_type": "markdown",
   "id": "0bae151e",
   "metadata": {},
   "source": [
    "## 7. Evaluate"
   ]
  },
  {
   "cell_type": "code",
   "execution_count": 38,
   "id": "cc43ada7",
   "metadata": {},
   "outputs": [
    {
     "name": "stdout",
     "output_type": "stream",
     "text": [
      "Validation MSE: 17.8912\n",
      "Validation MAE: 3.8987\n",
      "Validation R²: -4.6384\n"
     ]
    }
   ],
   "source": [
    "model.eval()\n",
    "with torch.no_grad():\n",
    "    # Move validation data to the same device as model\n",
    "    X_val_tensor = torch.tensor(X_val, dtype=torch.float32).to(device)\n",
    "    y_val_tensor = torch.tensor(y_val, dtype=torch.float32).to(device)\n",
    "    \n",
    "    preds = model(X_val_tensor)\n",
    "    mse = ((preds - y_val_tensor)**2).mean().item()\n",
    "print(f\"Validation MSE: {mse:.4f}\")\n",
    "\n",
    "# Also calculate and display other metrics\n",
    "mae = torch.abs(preds - y_val_tensor).mean().item()\n",
    "print(f\"Validation MAE: {mae:.4f}\")\n",
    "\n",
    "# Calculate R² score\n",
    "ss_res = ((preds - y_val_tensor) ** 2).sum()\n",
    "ss_tot = ((y_val_tensor - y_val_tensor.mean()) ** 2).sum()\n",
    "r2 = 1 - (ss_res / ss_tot)\n",
    "print(f\"Validation R²: {r2.item():.4f}\")"
   ]
  },
  {
   "cell_type": "markdown",
   "id": "c4032de7",
   "metadata": {},
   "source": [
    "## 8. Plot predictions"
   ]
  },
  {
   "cell_type": "code",
   "execution_count": null,
   "id": "e23cbbf6",
   "metadata": {},
   "outputs": [
    {
     "name": "stdout",
     "output_type": "stream",
     "text": [
      "\n",
      "Final Model Summary:\n",
      "- Hidden channels: 58\n",
      "- Kernel size: 13\n",
      "- Stride: 2\n",
      "- Dropout: 0.006\n",
      "- Learning rate: 0.002859\n",
      "- Device used: cuda\n"
     ]
    },
    {
     "name": "stderr",
     "output_type": "stream",
     "text": [
      "/tmp/ipykernel_67610/3606652271.py:34: UserWarning: FigureCanvasAgg is non-interactive, and thus cannot be shown\n",
      "  plt.show()\n"
     ]
    }
   ],
   "source": [
    "model.eval()\n",
    "with torch.no_grad():\n",
    "    # Move data to device and get predictions\n",
    "    X_val_tensor = torch.tensor(X_val, dtype=torch.float32).to(device)\n",
    "    y_pred = model(X_val_tensor).squeeze().cpu().numpy()  # Move back to CPU for plotting\n",
    "    y_true = y_val.squeeze()\n",
    "\n",
    "# Create subplot for better visualization\n",
    "fig, (ax1, ax2) = plt.subplots(1, 2, figsize=(12, 5))\n",
    "\n",
    "# Plot 1: Predictions vs True values\n",
    "ax1.scatter(y_true, y_pred, c=\"blue\", alpha=0.7, edgecolors=\"k\")\n",
    "ax1.plot([y_true.min(), y_true.max()], [y_true.min(), y_true.max()], \"r--\", label=\"Ideal\")\n",
    "ax1.set_xlabel(\"True weight (g)\")\n",
    "ax1.set_ylabel(\"Predicted weight (g)\")\n",
    "ax1.set_title(\"Predicted vs. True Weights\")\n",
    "ax1.legend()\n",
    "ax1.grid(True)\n",
    "\n",
    "# Plot 2: Training loss over epochs (if available)\n",
    "if 'train_losses' in locals():\n",
    "    ax2.plot(train_losses)\n",
    "    ax2.set_xlabel(\"Epoch\")\n",
    "    ax2.set_ylabel(\"Training Loss\")\n",
    "    ax2.set_title(\"Training Loss Over Time\")\n",
    "    ax2.grid(True)\n",
    "else:\n",
    "    ax2.text(0.5, 0.5, \"Training loss not available\", \n",
    "             ha='center', va='center', transform=ax2.transAxes)\n",
    "    ax2.set_title(\"Training Loss\")\n",
    "\n",
    "\n",
    "\n",
    "plt.tight_layout()\n",
    "plt.savefig(f\"model_prediction_{freq_start_khz}_{freq_stop_khz}kHz.png\")\n",
    "plt.show()\n",
    "\n",
    "# Print final model summary\n",
    "print(f\"\\nFinal Model Summary:\")\n",
    "print(f\"- Hidden channels: {best_params['hidden_channels']}\")\n",
    "print(f\"- Kernel size: {best_params['kernel_size']}\")\n",
    "print(f\"- Stride: {best_params['stride']}\")\n",
    "print(f\"- Dropout: {best_params['dropout']:.3f}\")\n",
    "print(f\"- Learning rate: {best_params['lr']:.6f}\")\n",
    "print(f\"- Device used: {device}\")"
   ]
  },
  {
   "cell_type": "markdown",
   "id": "aa203c50",
   "metadata": {},
   "source": [
    "## 9. RMSD Analysis"
   ]
  },
  {
   "cell_type": "code",
   "execution_count": null,
   "id": "bfe0bbdb",
   "metadata": {},
   "outputs": [
    {
     "name": "stdout",
     "output_type": "stream",
     "text": [
      "Using reference dataset with weight: 115.00g\n",
      "\n",
      "Resistance RMSD Analysis (50-500 kHz):\n",
      "Reference dataset: 115.00g\n",
      "- Mean RMSD: 7.37 Ω\n",
      "- Std RMSD: 2.56 Ω\n",
      "- Min RMSD: 0.00 Ω\n",
      "- Max RMSD: 10.40 Ω\n",
      "- Weight range: 109.20g - 115.00g\n",
      "- Most different from reference: 110.70g (RMSD: 10.40 Ω)\n",
      "- Most similar to reference: 114.80g (RMSD: 1.00 Ω)\n"
     ]
    },
    {
     "name": "stderr",
     "output_type": "stream",
     "text": [
      "/tmp/ipykernel_70730/2575930147.py:65: UserWarning: FigureCanvasAgg is non-interactive, and thus cannot be shown\n",
      "  plt.show()\n",
      "/tmp/ipykernel_70730/2575930147.py:104: UserWarning: FigureCanvasAgg is non-interactive, and thus cannot be shown\n",
      "  plt.show()\n"
     ]
    }
   ],
   "source": []
  }
 ],
 "metadata": {
  "kernelspec": {
   "display_name": "corro_ml_env",
   "language": "python",
   "name": "python3"
  },
  "language_info": {
   "codemirror_mode": {
    "name": "ipython",
    "version": 3
   },
   "file_extension": ".py",
   "mimetype": "text/x-python",
   "name": "python",
   "nbconvert_exporter": "python",
   "pygments_lexer": "ipython3",
   "version": "3.10.18"
  }
 },
 "nbformat": 4,
 "nbformat_minor": 5
}
